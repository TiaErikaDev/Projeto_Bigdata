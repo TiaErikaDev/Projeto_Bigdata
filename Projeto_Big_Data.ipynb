{
  "nbformat": 4,
  "nbformat_minor": 0,
  "metadata": {
    "colab": {
      "provenance": [],
      "authorship_tag": "ABX9TyPfs+XnAzLH/Ix7kVAp2BmN",
      "include_colab_link": true
    },
    "kernelspec": {
      "name": "python3",
      "display_name": "Python 3"
    },
    "language_info": {
      "name": "python"
    }
  },
  "cells": [
    {
      "cell_type": "markdown",
      "metadata": {
        "id": "view-in-github",
        "colab_type": "text"
      },
      "source": [
        "<a href=\"https://colab.research.google.com/github/TiaErikaDev/Projeto_Bigdata/blob/main/Projeto_Big_Data.ipynb\" target=\"_parent\"><img src=\"https://colab.research.google.com/assets/colab-badge.svg\" alt=\"Open In Colab\"/></a>"
      ]
    },
    {
      "cell_type": "markdown",
      "source": [
        "\n",
        "> FACULDADE MÉTODO DE SÃO PAULO / FLAI\n",
        "\n",
        "> MBA DATA SCIENCE\n",
        "\n",
        "> ÉRIKA MAYARA DE OLIVEIRA PIMENTEL\n",
        "\n",
        "\n",
        "\n"
      ],
      "metadata": {
        "id": "zKPIsM-hCP2h"
      }
    },
    {
      "cell_type": "markdown",
      "source": [
        "# **INTRODUÇÃO**"
      ],
      "metadata": {
        "id": "mg9wYL9O-oj_"
      }
    },
    {
      "cell_type": "markdown",
      "source": [
        "Explorando o Mercado de Trabalho em Dados com Tecnologias de Big Data\n",
        "\n",
        "Nos últimos anos, o campo de análise de dados tem se tornado uma peça fundamental para empresas e organizações em todo o mundo. A capacidade de coletar, processar e analisar grandes volumes de dados está impulsionando a tomada de decisões informadas e estratégicas, fornecendo uma vantagem competitiva significativa. No Brasil, esse cenário não é diferente, e o mercado de trabalho na área de dados está passando por mudanças profundas e aceleradas.\n",
        "\n",
        "Nesse contexto de constante evolução, é crucial compreender as tendências e características que moldam o mercado de trabalho de dados no Brasil. Este projeto se baseia nos dados do State of Data Brazil 2022, uma pesquisa abrangente conduzida pela Data Hackers, a maior comunidade de dados do Brasil, em colaboração com a renomada consultoria global Bain & Company. Essa pesquisa visa mapear e entender o mercado de trabalho de dados no Brasil, representando uma fonte rica de informações que pode orientar profissionais, empresas e formuladores de políticas na área de dados.\n",
        "\n",
        "O mercado de trabalho de dados no Brasil enfrenta uma série de desafios e oportunidades únicos. A crescente demanda por profissionais qualificados em dados, como analistas de dados, cientistas de dados e engenheiros de dados, reflete a importância crítica desses especialistas na economia digital. No entanto, a dinâmica desse mercado é complexa, influenciada por fatores demográficos, econômicos e tecnológicos.\n",
        "\n",
        "Profissionais de dados estão envolvidos em uma variedade de setores, desde finanças e saúde até marketing e varejo. Eles desempenham papéis cruciais na extração de informações valiosas a partir de dados brutos, que podem orientar estratégias de negócios, melhorar a eficiência operacional e até mesmo catalisar a inovação. Nesse cenário dinâmico, é vital entender quem são esses profissionais, de onde vêm, como evoluem em suas carreiras e quais são suas aspirações."
      ],
      "metadata": {
        "id": "eatxmaNN-td7"
      }
    },
    {
      "cell_type": "markdown",
      "source": [
        "# **OBJETIVOS**"
      ],
      "metadata": {
        "id": "PtasHDaL_g-j"
      }
    },
    {
      "cell_type": "markdown",
      "source": [
        "**Perfil Demográfico e de Formação**: Analisar o perfil demográfico dos profissionais de dados no Brasil, incluindo idade, gênero, raça/etnia, presença de PCD (Pessoa com Deficiência), localização geográfica e formação educacional. Isso ajudará a compreender a diversidade desse grupo.\n",
        "\n",
        "**Carreira em Dados**: Investigar a situação atual de trabalho, setores de atuação, cargos ocupados, níveis hierárquicos, faixas salariais e tempo de experiência na área de dados. Essa análise oferecerá insights sobre o crescimento profissional na área.\n",
        "\n",
        "**Busca por Oportunidades**: Avaliar o tempo que os profissionais passaram buscando oportunidades na área de dados e as linguagens de programação mais utilizadas em seu trabalho. Essas informações podem destacar tendências emergentes no campo de dados.\n"
      ],
      "metadata": {
        "id": "nWNwb84D_k_0"
      }
    },
    {
      "cell_type": "markdown",
      "source": [
        "# **Hipóteses**"
      ],
      "metadata": {
        "id": "utwaWFYHCMXt"
      }
    },
    {
      "cell_type": "markdown",
      "source": [
        "\n",
        "\n",
        "1.   Profissionais mais jovens têm maior probabilidade de estar buscando oportunidades na área de dados, refletindo o dinamismo do mercado.\n",
        "\n",
        "2.   A remuneração média na área de dados varia significativamente entre diferentes setores de atuação, indicando disparidades salariais.\n",
        "\n",
        "3. Profissionais com mais tempo de experiência tendem a ocupar cargos de nível hierárquico mais elevado, sugerindo um caminho de crescimento profissional.\n",
        "\n",
        "4. Existe uma correlação entre a faixa salarial e o nível de satisfação no ambiente de trabalho, influenciando a retenção de talentos.\n",
        "\n",
        "5. Determinadas linguagens de programação são mais prevalentes em determinados setores de atuação, revelando preferências tecnológicas.\n",
        "\n"
      ],
      "metadata": {
        "id": "nxU2MMfUCv1M"
      }
    },
    {
      "cell_type": "markdown",
      "source": [
        "### Instalando  Pyspark"
      ],
      "metadata": {
        "id": "PkjxwP10bAxH"
      }
    },
    {
      "cell_type": "code",
      "execution_count": null,
      "metadata": {
        "colab": {
          "base_uri": "https://localhost:8080/"
        },
        "id": "DTql5FingCc7",
        "outputId": "63b78f3b-5c19-4b4a-8e95-aa612ab3c687"
      },
      "outputs": [
        {
          "output_type": "stream",
          "name": "stdout",
          "text": [
            "Collecting pyspark\n",
            "  Downloading pyspark-3.5.0.tar.gz (316.9 MB)\n",
            "\u001b[2K     \u001b[90m━━━━━━━━━━━━━━━━━━━━━━━━━━━━━━━━━━━━━━━━\u001b[0m \u001b[32m316.9/316.9 MB\u001b[0m \u001b[31m4.5 MB/s\u001b[0m eta \u001b[36m0:00:00\u001b[0m\n",
            "\u001b[?25h  Preparing metadata (setup.py) ... \u001b[?25l\u001b[?25hdone\n",
            "Requirement already satisfied: py4j==0.10.9.7 in /usr/local/lib/python3.10/dist-packages (from pyspark) (0.10.9.7)\n",
            "Building wheels for collected packages: pyspark\n",
            "  Building wheel for pyspark (setup.py) ... \u001b[?25l\u001b[?25hdone\n",
            "  Created wheel for pyspark: filename=pyspark-3.5.0-py2.py3-none-any.whl size=317425344 sha256=dc869ccf2dc965b15d8811247cb6a9a2c8b7b5ee703650bd1b5976b520d59765\n",
            "  Stored in directory: /root/.cache/pip/wheels/41/4e/10/c2cf2467f71c678cfc8a6b9ac9241e5e44a01940da8fbb17fc\n",
            "Successfully built pyspark\n",
            "Installing collected packages: pyspark\n",
            "Successfully installed pyspark-3.5.0\n"
          ]
        }
      ],
      "source": [
        "!pip install pyspark\n"
      ]
    },
    {
      "cell_type": "code",
      "source": [
        "# Instalar as dependências\n",
        "!apt-get install openjdk-8-jdk-headless -qq > /dev/null\n",
        "!wget -q https://dlcdn.apache.org/spark/spark-3.4.0/spark-3.4.0-bin-hadoop3.tgz\n",
        "!tar xf spark-3.4.0-bin-hadoop3.tgz\n",
        "!pip install -q findspark"
      ],
      "metadata": {
        "id": "j-okhhSt0OFM",
        "colab": {
          "base_uri": "https://localhost:8080/"
        },
        "outputId": "77bc5b1e-7dbc-44a8-d4f0-bc79fe7eddf0"
      },
      "execution_count": null,
      "outputs": [
        {
          "output_type": "stream",
          "name": "stdout",
          "text": [
            "tar: spark-3.4.0-bin-hadoop3.tgz: Cannot open: No such file or directory\n",
            "tar: Error is not recoverable: exiting now\n"
          ]
        }
      ]
    },
    {
      "cell_type": "code",
      "source": [
        "#Configurar as variáveis de ambiente\n",
        "import os\n",
        "os.environ[\"JAVA_HOME\"] = \"/usr/lib/jvm/java-8-openjdk-amd64\"\n",
        "os.environ[\"SPARK_HOME\"] = \"/content/spark-3.4.0-bin-hadoop3\"\n",
        "\n",
        "#Tornar o pyspark \"importável\"\n",
        "import findspark\n",
        "findspark.init('spark-3.4.0-bin-hadoop3')"
      ],
      "metadata": {
        "id": "UGM5zr3m0Poy",
        "colab": {
          "base_uri": "https://localhost:8080/",
          "height": 442
        },
        "outputId": "e60bb395-fb81-4bde-ab7e-98715d4cc198"
      },
      "execution_count": null,
      "outputs": [
        {
          "output_type": "error",
          "ename": "Exception",
          "evalue": "ignored",
          "traceback": [
            "\u001b[0;31m---------------------------------------------------------------------------\u001b[0m",
            "\u001b[0;31mIndexError\u001b[0m                                Traceback (most recent call last)",
            "\u001b[0;32m/usr/local/lib/python3.10/dist-packages/findspark.py\u001b[0m in \u001b[0;36minit\u001b[0;34m(spark_home, python_path, edit_rc, edit_profile)\u001b[0m\n\u001b[1;32m    158\u001b[0m         \u001b[0;32mtry\u001b[0m\u001b[0;34m:\u001b[0m\u001b[0;34m\u001b[0m\u001b[0;34m\u001b[0m\u001b[0m\n\u001b[0;32m--> 159\u001b[0;31m             \u001b[0mpy4j\u001b[0m \u001b[0;34m=\u001b[0m \u001b[0mglob\u001b[0m\u001b[0;34m(\u001b[0m\u001b[0mos\u001b[0m\u001b[0;34m.\u001b[0m\u001b[0mpath\u001b[0m\u001b[0;34m.\u001b[0m\u001b[0mjoin\u001b[0m\u001b[0;34m(\u001b[0m\u001b[0mspark_python\u001b[0m\u001b[0;34m,\u001b[0m \u001b[0;34m\"lib\"\u001b[0m\u001b[0;34m,\u001b[0m \u001b[0;34m\"py4j-*.zip\"\u001b[0m\u001b[0;34m)\u001b[0m\u001b[0;34m)\u001b[0m\u001b[0;34m[\u001b[0m\u001b[0;36m0\u001b[0m\u001b[0;34m]\u001b[0m\u001b[0;34m\u001b[0m\u001b[0;34m\u001b[0m\u001b[0m\n\u001b[0m\u001b[1;32m    160\u001b[0m         \u001b[0;32mexcept\u001b[0m \u001b[0mIndexError\u001b[0m\u001b[0;34m:\u001b[0m\u001b[0;34m\u001b[0m\u001b[0;34m\u001b[0m\u001b[0m\n",
            "\u001b[0;31mIndexError\u001b[0m: list index out of range",
            "\nDuring handling of the above exception, another exception occurred:\n",
            "\u001b[0;31mException\u001b[0m                                 Traceback (most recent call last)",
            "\u001b[0;32m<ipython-input-3-0bd8f685b8ab>\u001b[0m in \u001b[0;36m<cell line: 8>\u001b[0;34m()\u001b[0m\n\u001b[1;32m      6\u001b[0m \u001b[0;31m#Tornar o pyspark \"importável\"\u001b[0m\u001b[0;34m\u001b[0m\u001b[0;34m\u001b[0m\u001b[0m\n\u001b[1;32m      7\u001b[0m \u001b[0;32mimport\u001b[0m \u001b[0mfindspark\u001b[0m\u001b[0;34m\u001b[0m\u001b[0;34m\u001b[0m\u001b[0m\n\u001b[0;32m----> 8\u001b[0;31m \u001b[0mfindspark\u001b[0m\u001b[0;34m.\u001b[0m\u001b[0minit\u001b[0m\u001b[0;34m(\u001b[0m\u001b[0;34m'spark-3.4.0-bin-hadoop3'\u001b[0m\u001b[0;34m)\u001b[0m\u001b[0;34m\u001b[0m\u001b[0;34m\u001b[0m\u001b[0m\n\u001b[0m",
            "\u001b[0;32m/usr/local/lib/python3.10/dist-packages/findspark.py\u001b[0m in \u001b[0;36minit\u001b[0;34m(spark_home, python_path, edit_rc, edit_profile)\u001b[0m\n\u001b[1;32m    159\u001b[0m             \u001b[0mpy4j\u001b[0m \u001b[0;34m=\u001b[0m \u001b[0mglob\u001b[0m\u001b[0;34m(\u001b[0m\u001b[0mos\u001b[0m\u001b[0;34m.\u001b[0m\u001b[0mpath\u001b[0m\u001b[0;34m.\u001b[0m\u001b[0mjoin\u001b[0m\u001b[0;34m(\u001b[0m\u001b[0mspark_python\u001b[0m\u001b[0;34m,\u001b[0m \u001b[0;34m\"lib\"\u001b[0m\u001b[0;34m,\u001b[0m \u001b[0;34m\"py4j-*.zip\"\u001b[0m\u001b[0;34m)\u001b[0m\u001b[0;34m)\u001b[0m\u001b[0;34m[\u001b[0m\u001b[0;36m0\u001b[0m\u001b[0;34m]\u001b[0m\u001b[0;34m\u001b[0m\u001b[0;34m\u001b[0m\u001b[0m\n\u001b[1;32m    160\u001b[0m         \u001b[0;32mexcept\u001b[0m \u001b[0mIndexError\u001b[0m\u001b[0;34m:\u001b[0m\u001b[0;34m\u001b[0m\u001b[0;34m\u001b[0m\u001b[0m\n\u001b[0;32m--> 161\u001b[0;31m             raise Exception(\n\u001b[0m\u001b[1;32m    162\u001b[0m                 \"Unable to find py4j in {}, your SPARK_HOME may not be configured correctly\".format(\n\u001b[1;32m    163\u001b[0m                     \u001b[0mspark_python\u001b[0m\u001b[0;34m\u001b[0m\u001b[0;34m\u001b[0m\u001b[0m\n",
            "\u001b[0;31mException\u001b[0m: Unable to find py4j in spark-3.4.0-bin-hadoop3/python, your SPARK_HOME may not be configured correctly"
          ]
        }
      ]
    },
    {
      "cell_type": "markdown",
      "source": [
        "### Importando as bibliotecas"
      ],
      "metadata": {
        "id": "7JiHl9l8bLBS"
      }
    },
    {
      "cell_type": "code",
      "source": [
        "import pyspark\n",
        "from pyspark.sql import SparkSession\n",
        "from pyspark.sql.types import StructType, StructField, StringType, IntegerType\n",
        "from pyspark.sql.functions import *\n",
        "from pyspark.sql import functions as F\n",
        "import pandas as pd\n",
        "import matplotlib.pyplot as plt\n",
        "import seaborn as sns\n",
        "\n",
        "\n",
        "spark = SparkSession.builder.master('local[*]').getOrCreate()\n",
        "sc = spark.sparkContext"
      ],
      "metadata": {
        "id": "xV8B2OOaajMd"
      },
      "execution_count": null,
      "outputs": []
    },
    {
      "cell_type": "markdown",
      "source": [
        "### Leitura do dataframe"
      ],
      "metadata": {
        "id": "euO5d3kkbRDu"
      }
    },
    {
      "cell_type": "code",
      "source": [
        "df = spark.read.csv('/content/State_of_data_2022.csv', inferSchema=True, header=True)\n",
        "df"
      ],
      "metadata": {
        "id": "VxrfXmGea_tm"
      },
      "execution_count": null,
      "outputs": []
    },
    {
      "cell_type": "code",
      "source": [
        "df.show(5)"
      ],
      "metadata": {
        "id": "cjHiZ8W9wP9J"
      },
      "execution_count": null,
      "outputs": []
    },
    {
      "cell_type": "markdown",
      "source": [
        "### Selecionando as colunas de interesse"
      ],
      "metadata": {
        "id": "t4jWwgAlFgs0"
      }
    },
    {
      "cell_type": "code",
      "source": [
        "df_final = df.select(\"('P0', 'id')\", \"('P1_a ', 'Idade')\", \"('P1_a_1 ', 'Faixa idade')\", \"('P1_b ', 'Genero')\", \"('P1_c ', 'Cor/raca/etnia')\", \"('P1_d ', 'PCD')\", \"('P1_g ', 'vive_no_brasil')\",\n",
        "          \"('P1_i ', 'Estado onde mora')\", \"('P1_i_1 ', 'uf onde mora')\", \"('P1_i_2 ', 'Regiao onde mora')\", \"('P1_l ', 'Nivel de Ensino')\", \"('P1_m ', 'Área de Formação')\",\n",
        "          \"('P2_a ', 'Qual sua situação atual de trabalho?')\", \"('P2_b ', 'Setor')\", \"('P2_d ', 'Gestor?')\", \"('P2_e ', 'Cargo como Gestor')\", \"('P2_f ', 'Cargo Atual')\", \"('P2_g ', 'Nivel')\",\n",
        "          \"('P2_h ', 'Faixa salarial')\", \"('P2_i ', 'Quanto tempo de experiência na área de dados você tem?')\", \"('P2_p ', 'Atualmente qual a sua forma de trabalho?')\",\n",
        "          \"('P4_e ', 'Entre as linguagens listadas abaixo, qual é a que você mais utiliza no trabalho?')\", \"('P5_c ', 'Há quanto tempo você busca uma oportunidade na área de dados?')\")\n",
        "df_final.show()"
      ],
      "metadata": {
        "id": "9SINnajG1cdH"
      },
      "execution_count": null,
      "outputs": []
    },
    {
      "cell_type": "code",
      "source": [
        "#Resumo das colunas\n",
        "df_final.printSchema()"
      ],
      "metadata": {
        "id": "wngY5L2IFyjE"
      },
      "execution_count": null,
      "outputs": []
    },
    {
      "cell_type": "markdown",
      "source": [
        "### Limpeza e tratamento dos dados"
      ],
      "metadata": {
        "id": "sil2sDSMFtDx"
      }
    },
    {
      "cell_type": "code",
      "source": [
        "#Alterando o nome das colunas\n",
        "\n",
        "renaming_dict = {\n",
        "    \"('P0', 'id')\": \"ID\",\n",
        "    \"('P1_a ', 'Idade')\": \"Idade\",\n",
        "    \"('P1_a_1 ', 'Faixa idade')\": \"Faixa idade\",\n",
        "    \"('P1_b ', 'Genero')\": \"Genero\",\n",
        "    \"('P1_c ', 'Cor/raca/etnia')\": \"Cor/raca/etnia\",\n",
        "    \"('P1_d ', 'PCD')\": \"PCD\",\n",
        "    \"('P1_g ', 'vive_no_brasil')\": \"vive_no_brasil\",\n",
        "    \"('P1_i ', 'Estado onde mora')\": \"Estado onde mora\",\n",
        "    \"('P1_i_1 ', 'uf onde mora')\": \"uf onde mora\",\n",
        "    \"('P1_i_2 ', 'Regiao onde mora')\": \"Regiao onde mora\",\n",
        "    \"('P1_l ', 'Nivel de Ensino')\": \"Nivel de Ensino\",\n",
        "    \"('P1_m ', 'Área de Formação')\": \"Área de Formação\",\n",
        "    \"('P2_a ', 'Qual sua situação atual de trabalho?')\": \"Qual sua situação atual de trabalho?\",\n",
        "    \"('P2_b ', 'Setor')\": \"Setor\",\n",
        "    \"('P2_d ', 'Gestor?')\": \"Gestor?\",\n",
        "    \"('P2_e ', 'Cargo como Gestor')\": \"Cargo como Gestor\",\n",
        "    \"('P2_f ', 'Cargo Atual')\": \"Cargo Atual\",\n",
        "    \"('P2_g ', 'Nivel')\": \"Nivel\",\n",
        "    \"('P2_h ', 'Faixa salarial')\": \"Faixa salarial\",\n",
        "    \"('P2_i ', 'Quanto tempo de experiência na área de dados você tem?')\": \"Quanto tempo de experiência na área de dados você tem?\",\n",
        "    \"('P2_p ', 'Atualmente qual a sua forma de trabalho?')\": \"Atualmente qual a sua forma de trabalho?\",\n",
        "    \"('P4_e ', 'Entre as linguagens listadas abaixo, qual é a que você mais utiliza no trabalho?')\": \"Entre as linguagens listadas abaixo, qual é a que você mais utiliza no trabalho?\",\n",
        "    \"('P5_c ', 'Há quanto tempo você busca uma oportunidade na área de dados?')\": \"Há quanto tempo você busca uma oportunidade na área de dados?\",\n",
        "}\n",
        "\n",
        "\n",
        "for current_name, new_name in renaming_dict.items():\n",
        "    df_final = df_final.withColumnRenamed(current_name, new_name)\n",
        "\n",
        "df_final.show()\n"
      ],
      "metadata": {
        "id": "cVXtPVu7FwYJ"
      },
      "execution_count": null,
      "outputs": []
    },
    {
      "cell_type": "code",
      "source": [
        "#Transformando valores\n",
        "df_final = df_final.withColumn(\"PCD\", when(df_final[\"PCD\"] == \"Sim\", 1).otherwise(0))\n",
        "df_final = df_final.withColumn(\"Nivel\", when(col(\"Nivel\").isNull(), \"Outro\").otherwise(col(\"Nivel\")))"
      ],
      "metadata": {
        "id": "XvJak2kcSZWy"
      },
      "execution_count": null,
      "outputs": []
    },
    {
      "cell_type": "code",
      "source": [
        "#criar uma coluna numérica 'Salario Numerico' com valores médios para cada faixa salarial\n",
        "df_final = df_final.withColumn(\"Salario Numerico\",\n",
        "    when(col(\"Faixa salarial\") == \"Acima de R$ 40.001/mês\", 45000)\n",
        "    .when(col(\"Faixa salarial\") == \"de R$ 6.001/mês a R$ 8.000/mês\", 7000)\n",
        "    .when(col(\"Faixa salarial\") == \"de R$ 12.001/mês a R$ 16.000/mês\", 14000)\n",
        "    .when(col(\"Faixa salarial\") == \"de R$ 1.001/mês a R$ 2.000/mês\", 1500)\n",
        "    .when(col(\"Faixa salarial\") == \"de R$ 30.001/mês a R$ 40.000/mês\", 35000)\n",
        "    .when(col(\"Faixa salarial\") == \"de R$ 3.001/mês a R$ 4.000/mês\", 3500)\n",
        "    .when(col(\"Faixa salarial\") == \"de R$ 25.001/mês a R$ 30.000/mês\", 27500)\n",
        "    .when(col(\"Faixa salarial\") == \"de R$ 20.001/mês a R$ 25.000/mês\", 22500)\n",
        "    .when(col(\"Faixa salarial\") == \"Menos de R$ 1.000/mês\", 500)\n",
        "    .when(col(\"Faixa salarial\") == \"de R$ 16.001/mês a R$ 20.000/mês\", 18000)\n",
        "    .when(col(\"Faixa salarial\") == \"de R$ 8.001/mês a R$ 12.000/mês\", 10000)\n",
        "    .when(col(\"Faixa salarial\") == \"de R$ 2.001/mês a R$ 3.000/mês\", 2500)\n",
        "    .when(col(\"Faixa salarial\") == \"de R$ 4.001/mês a R$ 6.000/mês\", 5000)\n",
        "    .otherwise(0)\n",
        ")"
      ],
      "metadata": {
        "id": "Qxjmfpc3gUGr"
      },
      "execution_count": null,
      "outputs": []
    },
    {
      "cell_type": "code",
      "source": [
        "#Transformando os tipos de dados\n",
        "df_final = df_final.withColumn(\"Salario Numerico\", col(\"Salario Numerico\").cast(\"int\"))\n",
        "df_final = df_final.withColumn(\"Idade\", df_final[\"Idade\"].cast(\"int\"))"
      ],
      "metadata": {
        "id": "sc3sjhe7qNib"
      },
      "execution_count": null,
      "outputs": []
    },
    {
      "cell_type": "code",
      "source": [
        "#removendo o estado em () da coluna 'Estado ondde mora'\n",
        "colunas = df_final.columns\n",
        "for coluna in colunas:\n",
        "    df_final = df_final.withColumn(coluna, regexp_replace(col(coluna), r'\\(.*\\)', ''))\n",
        "\n",
        "df_final.show()\n"
      ],
      "metadata": {
        "id": "gjy3flTRTWKN"
      },
      "execution_count": null,
      "outputs": []
    },
    {
      "cell_type": "code",
      "source": [
        "#Excluindo linhas\n",
        "df_final = df_final.filter(df_final[\"Genero\"].isNotNull())\n",
        "df_final = df_final.filter(df_final[\"Regiao onde mora\"].isNotNull())\n",
        "df_final = df_final.filter(df_final[\"Idade\"].isNotNull())"
      ],
      "metadata": {
        "id": "bVHmyd59Vlzm"
      },
      "execution_count": null,
      "outputs": []
    },
    {
      "cell_type": "markdown",
      "source": [
        "### Análise descritiva inicial"
      ],
      "metadata": {
        "id": "L2aTJEHOXH19"
      }
    },
    {
      "cell_type": "code",
      "source": [
        "#Resumo Estatístico\n",
        "df_final.describe().show()"
      ],
      "metadata": {
        "id": "QqFQMn5zXLIx"
      },
      "execution_count": null,
      "outputs": []
    },
    {
      "cell_type": "code",
      "source": [
        "#Contagem de Linhas e Colunas\n",
        "print(\"Número de linhas:\", df_final.count())\n",
        "print(\"Número de colunas:\", len(df_final.columns))"
      ],
      "metadata": {
        "id": "ig52gBS7XZ_R"
      },
      "execution_count": null,
      "outputs": []
    },
    {
      "cell_type": "code",
      "source": [
        "#Distribuição de Variáveis Categóricas\n",
        "categorias = [\"Faixa idade\",\"Genero\", \"Cor/raca/etnia\", \"Salario Numerico\", \"Regiao onde mora\", \"Nivel\"]\n",
        "for coluna in categorias:\n",
        "    df_final.groupBy(coluna).count().show()"
      ],
      "metadata": {
        "id": "oQ7jIyTHXgIR"
      },
      "execution_count": null,
      "outputs": []
    },
    {
      "cell_type": "markdown",
      "source": [
        "### Visualização de Dados"
      ],
      "metadata": {
        "id": "_yksnQY5Z2bi"
      }
    },
    {
      "cell_type": "markdown",
      "source": [
        "Gráfico de Barras (Bar Chart):\n"
      ],
      "metadata": {
        "id": "V-95eV0raPsV"
      }
    },
    {
      "cell_type": "code",
      "source": [
        "#Gráfico de barras para a contagem de gênero\n",
        "\n",
        "contagem_genero = df_final.groupBy(\"Genero\").count().toPandas()\n",
        "\n",
        "plt.figure(figsize=(8, 6))\n",
        "plt.bar(contagem_genero[\"Genero\"], contagem_genero[\"count\"], color='#680d90')\n",
        "plt.title(\"Contagem de Gênero\")\n",
        "plt.xlabel(\"Gênero\")\n",
        "plt.ylabel(\"Contagem\")\n",
        "plt.show()"
      ],
      "metadata": {
        "id": "q7qnoinHZ3v8"
      },
      "execution_count": null,
      "outputs": []
    },
    {
      "cell_type": "markdown",
      "source": [
        "Histogramas (Histogram):\n"
      ],
      "metadata": {
        "id": "zfg9k72QaSUI"
      }
    },
    {
      "cell_type": "code",
      "source": [
        "#Histograma para a coluna 'Idade'\n",
        "\n",
        "idade = df_final.select(\"Idade\").toPandas()\n",
        "idade_sorted = idade.sort_values(by=\"Idade\")\n",
        "\n",
        "\n",
        "plt.figure(figsize=(15, 6))\n",
        "plt.hist(idade_sorted[\"Idade\"], bins=20, color='#680d90', edgecolor='white')\n",
        "plt.title(\"Histograma de Idade\")\n",
        "plt.xlabel(\"Idade\")\n",
        "plt.ylabel(\"Frequência\")\n",
        "plt.show()"
      ],
      "metadata": {
        "id": "L9kq0VWfaUPv"
      },
      "execution_count": null,
      "outputs": []
    },
    {
      "cell_type": "code",
      "source": [
        "raca_cor = df_final.select(\"Cor/raca/etnia\").toPandas()\n",
        "\n",
        "plt.figure(figsize=(8, 6))\n",
        "plt.hist(raca_cor[\"Cor/raca/etnia\"], bins=20, color='#680d90', edgecolor='white')\n",
        "plt.title(\"Histograma de Cor/raca/etnia\")\n",
        "plt.xlabel(\"Cor/raca/etnia\")\n",
        "plt.ylabel(\"Frequência\")\n",
        "plt.show()\n"
      ],
      "metadata": {
        "id": "eBlsPAziseXj"
      },
      "execution_count": null,
      "outputs": []
    },
    {
      "cell_type": "code",
      "source": [
        "pcd = df_final.select(\"PCD\").toPandas()\n",
        "\n",
        "plt.figure(figsize=(8, 6))\n",
        "plt.hist(pcd[\"PCD\"], bins=20, color='#680d90', edgecolor='white')\n",
        "plt.title(\"Histograma de PCD\")\n",
        "plt.xlabel(\"PCD\")\n",
        "plt.ylabel(\"Frequência\")\n",
        "plt.xticks([0, 1], ['Não PCD', 'PCD'])\n",
        "plt.show()\n"
      ],
      "metadata": {
        "id": "cVoSF2iRttoe"
      },
      "execution_count": null,
      "outputs": []
    },
    {
      "cell_type": "code",
      "source": [
        "Regiao = df_final.select(\"Regiao onde mora\").toPandas()\n",
        "\n",
        "plt.figure(figsize=(8, 6))\n",
        "plt.hist(Regiao[\"Regiao onde mora\"], bins=20, color='#680d90', edgecolor='white')\n",
        "plt.title(\"Histograma de Regiões\")\n",
        "plt.xlabel(\"Região do Brasil\")\n",
        "plt.ylabel(\"Frequência\")\n",
        "plt.show()"
      ],
      "metadata": {
        "id": "wuO0JieCttXf"
      },
      "execution_count": null,
      "outputs": []
    },
    {
      "cell_type": "code",
      "source": [
        "Nivel_de_Ensino = df_final.select(\"Nivel de Ensino\").toPandas()\n",
        "\n",
        "plt.figure(figsize=(15, 6))\n",
        "plt.hist(Nivel_de_Ensino[\"Nivel de Ensino\"], bins=20, color='#680d90', edgecolor='white')\n",
        "plt.title(\"Histograma de Nivel de Ensino\")\n",
        "plt.xlabel(\"Nivel de Ensino\")\n",
        "plt.ylabel(\"Frequência\")\n",
        "plt.show()\n"
      ],
      "metadata": {
        "id": "fO2e55DvwaOm"
      },
      "execution_count": null,
      "outputs": []
    },
    {
      "cell_type": "code",
      "source": [
        "Nivel = df_final.select(\"Nivel\").toPandas()\n",
        "\n",
        "plt.figure(figsize=(15, 6))\n",
        "plt.hist(Nivel[\"Nivel\"], bins=20, color='#680d90', edgecolor='white')\n",
        "plt.title(\"Histograma de Nivel\")\n",
        "plt.xlabel(\"Nivel\")\n",
        "plt.ylabel(\"Frequência\")\n",
        "plt.show()\n",
        "\n"
      ],
      "metadata": {
        "id": "Fpch_N18zfbM"
      },
      "execution_count": null,
      "outputs": []
    },
    {
      "cell_type": "code",
      "source": [
        "salarios_numericos = df_final.select(\"Salario Numerico\").toPandas()\n",
        "\n",
        "plt.figure(figsize=(15, 6))\n",
        "plt.hist(salarios_numericos[\"Salario Numerico\"], bins=20, color='#680d90', edgecolor='white')\n",
        "plt.title(\"Histograma de Salario\")\n",
        "plt.xlabel(\"Salario\")\n",
        "plt.ylabel(\"Frequência\")\n",
        "plt.xticks(range(0, 32000, 2000))\n",
        "plt.show()"
      ],
      "metadata": {
        "id": "HOOw62zExrti"
      },
      "execution_count": null,
      "outputs": []
    },
    {
      "cell_type": "markdown",
      "source": [
        "# **Hipóteses**"
      ],
      "metadata": {
        "id": "U8XzzLdVECnV"
      }
    },
    {
      "cell_type": "markdown",
      "source": [
        "### Profissionais mais jovens têm maior probabilidade de estar buscando oportunidades na área de dados, refletindo o dinamismo do mercado.\n",
        "\n",
        "\n"
      ],
      "metadata": {
        "id": "ydlqoWxNEMaf"
      }
    },
    {
      "cell_type": "code",
      "source": [
        "# Filtrar os dados para incluir apenas aqueles que estão buscando oportunidades\n",
        "buscando_oportunidades = df_final.filter(col(\"Há quanto tempo você busca uma oportunidade na área de dados?\") != 'None')\n",
        "\n",
        "# Realizar o agrupamento e contagem\n",
        "buscando_oportunidades = buscando_oportunidades.groupBy(\"Há quanto tempo você busca uma oportunidade na área de dados?\", \"Idade\").count()\n",
        "\n",
        "# Ordenar o resultado em ordem crescente da Idade\n",
        "buscando_oportunidades = buscando_oportunidades.sort(\"Idade\", ascending=True)\n",
        "\n",
        "# Renomear a coluna \"count\" para \"Buscando oportunidades\"\n",
        "buscando_oportunidades = buscando_oportunidades.withColumnRenamed(\"count\", \"Buscando oportunidades\")\n",
        "\n",
        "# Converter para DataFrame Pandas\n",
        "df_pandas = buscando_oportunidades.toPandas()\n",
        "\n",
        "# Criar o gráfico de barras\n",
        "df_pandas.plot(kind='bar', x=\"Idade\", y=\"Buscando oportunidades\", color='#680d90', figsize=(20, 6))\n",
        "plt.title('Pessoas Buscando Oportunidades na Área de Dados por Idade')\n",
        "plt.xlabel('Idade')\n",
        "plt.ylabel('Contagem')\n",
        "plt.show();\n"
      ],
      "metadata": {
        "id": "BoHN47Y5A63R"
      },
      "execution_count": null,
      "outputs": []
    },
    {
      "cell_type": "markdown",
      "source": [
        "### A remuneração média na área de dados varia significativamente entre diferentes setores de atuação, indicando disparidades salariais."
      ],
      "metadata": {
        "id": "mKBMQWPVO8my"
      }
    },
    {
      "cell_type": "code",
      "source": [
        "# Filtrar os dados para incluir apenas as colunas necessárias (Salário Numérico e Setor)\n",
        "salario_por_setor = df_final.select(\"Salario Numerico\", \"Setor\").filter(col(\"Setor\") != \"None\")\n",
        "\n",
        "# Agrupar os dados por setor e calcular a média salarial\n",
        "media_salarial_por_setor = salario_por_setor.groupBy(\"Setor\").agg(F.mean(\"Salario Numerico\").alias(\"Média Salarial\"))\n",
        "\n",
        "# Ordenar os resultados em ordem decrescente de média salarial\n",
        "media_salarial_por_setor = media_salarial_por_setor.sort(\"Média Salarial\", ascending=False)\n",
        "\n",
        "# Converter os resultados para um DataFrame Pandas\n",
        "df_pandas = media_salarial_por_setor.toPandas()\n",
        "df_pandas.plot(kind='bar', x=\"Setor\", y=\"Média Salarial\", color='#680d90', figsize=(15, 6));\n"
      ],
      "metadata": {
        "id": "5dNxkC8rPD1Z"
      },
      "execution_count": null,
      "outputs": []
    },
    {
      "cell_type": "markdown",
      "source": [
        "### Profissionais com mais tempo de experiência tendem a ocupar cargos de nível hierárquico mais elevado, sugerindo um caminho de crescimento profissional."
      ],
      "metadata": {
        "id": "ddglDYAnQfiQ"
      }
    },
    {
      "cell_type": "code",
      "source": [
        "# Filtrar os dados para incluir apenas as colunas necessárias (Nível e Quanto tempo de experiência)\n",
        "nivel_experiencia = df_final.select(\"Nivel\", \"Quanto tempo de experiência na área de dados você tem?\").filter(col(\"Quanto tempo de experiência na área de dados você tem?\") != \"None\").filter(col(\"Nivel\") != \"Outro\")\n",
        "\n",
        "# Realizar o agrupamento e contagem\n",
        "contagem_por_nivel_experiencia = nivel_experiencia.groupBy(\"Nivel\", \"Quanto tempo de experiência na área de dados você tem?\").count()\n",
        "\n",
        "# Ordenar o resultado em ordem crescente do tempo de experiência\n",
        "contagem_por_nivel_experiencia = contagem_por_nivel_experiencia.sort(\"Quanto tempo de experiência na área de dados você tem?\", ascending=True)\n",
        "\n",
        "# Converter os resultados para um DataFrame Pandas\n",
        "df_pandas_contagem = contagem_por_nivel_experiencia.toPandas()\n",
        "\n",
        "# Criar um gráfico de barras empilhadas para visualizar a distribuição de cargos por faixa de tempo de experiência\n",
        "pivot_df = df_pandas_contagem.pivot(index=\"Quanto tempo de experiência na área de dados você tem?\", columns=\"Nivel\", values=\"count\")\n",
        "pivot_df.plot(kind='bar', stacked=True, color=['#B356DB', '#A107A6', '#43085C'], figsize=(12, 6))\n",
        "plt.title('Distribuição de Cargos por Tempo de Experiência na Área de Dados')\n",
        "plt.xlabel('Tempo de Experiência na Área de Dados')\n",
        "plt.ylabel('Número de Profissionais')\n",
        "plt.legend(title='Nível')\n",
        "plt.show()"
      ],
      "metadata": {
        "id": "ZknXimzzQxCv"
      },
      "execution_count": null,
      "outputs": []
    },
    {
      "cell_type": "markdown",
      "source": [
        "### Existe uma diferença entre a faixa salarial e o nível de ensino."
      ],
      "metadata": {
        "id": "FES7VqCuXOET"
      }
    },
    {
      "cell_type": "code",
      "source": [
        "# Filtrar os dados para incluir apenas as colunas necessárias (Salario Numérico e Setor)\n",
        "salario_por_setor = df_final.select(\"Salario Numerico\", \"Nivel de Ensino\").filter(col(\"Nivel de Ensino\") != \"Prefiro não informar\")\n",
        "\n",
        "# Agrupar os dados por setor e calcular a média salarial\n",
        "media_salarial_por_setor = salario_por_setor.groupBy(\"Nivel de Ensino\").agg(F.mean(\"Salario Numerico\").alias(\"Média Salarial\"))\n",
        "\n",
        "# Ordenar os resultados em ordem decrescente de média salarial\n",
        "media_salarial_por_setor = media_salarial_por_setor.sort(\"Média Salarial\", ascending=False)\n",
        "\n",
        "# Converter os resultados para um DataFrame Pandas\n",
        "df_pandas = media_salarial_por_setor.toPandas()\n",
        "df_pandas.plot(kind='bar', x=\"Nivel de Ensino\", y=\"Média Salarial\", color='#680d90', figsize=(15, 6));\n"
      ],
      "metadata": {
        "id": "ASG4volzXPkt"
      },
      "execution_count": null,
      "outputs": []
    },
    {
      "cell_type": "markdown",
      "source": [
        "### Determinadas linguagens de programação são mais prevalentes em determinados setores de atuação, revelando preferências tecnológicas."
      ],
      "metadata": {
        "id": "Dg-k7y-xY8Pd"
      }
    },
    {
      "cell_type": "code",
      "source": [
        "# Selecionar apenas as colunas relevantes\n",
        "df_selecionado = df_final.select(\"Nivel\", \"Entre as linguagens listadas abaixo, qual é a que você mais utiliza no trabalho?\").filter(col(\"Nivel\") != \"Outro\")\n",
        "\n",
        "# Agrupar os dados e contar a frequência das linguagens em cada setor\n",
        "contagem_linguagens_por_setor = df_selecionado.groupBy(\"Nivel\", \"Entre as linguagens listadas abaixo, qual é a que você mais utiliza no trabalho?\").count()\n",
        "\n",
        "# Pivotar os dados para criar um DataFrame com as linguagens como colunas\n",
        "pivot_df = contagem_linguagens_por_setor.groupBy(\"Nivel\").pivot(\"Entre as linguagens listadas abaixo, qual é a que você mais utiliza no trabalho?\").sum(\"count\")\n",
        "\n",
        "# Converter o resultado em um DataFrame Pandas\n",
        "pivot_df_pandas = pivot_df.toPandas()\n",
        "\n",
        "# Criar um gráfico de barras empilhadas\n",
        "cores = ['#999999', '#999999', '#999999', '#999999', '#999999', '#999999', '#B356DB', '#999999', '#680d90', '#C2257B', '#999999', '#9F14DB', '#F578BD', '#1D069C']\n",
        "pivot_df_pandas.plot(kind='bar', x='Nivel', stacked=True, color=cores, figsize=(15, 6))\n",
        "plt.title('Distribuição de Linguagens de Programação por Setor de Atuação')\n",
        "plt.xlabel('Nivel')\n",
        "plt.ylabel('Número de Profissionais')\n",
        "plt.legend(title='Linguagens')\n",
        "plt.show()"
      ],
      "metadata": {
        "id": "UiPK9fGLbsZL"
      },
      "execution_count": null,
      "outputs": []
    },
    {
      "cell_type": "markdown",
      "source": [
        "# **CONCLUSÃO**"
      ],
      "metadata": {
        "id": "SBHNlvUZd1B4"
      }
    },
    {
      "cell_type": "markdown",
      "source": [
        "Ao longo deste projeto de análise de dados, foi explorado detalhadamente o cenário do mercado de trabalho na área de dados no Brasil com base nos dados do State of Data Brazil 2022. A análise permitiu obter insights valiosos sobre tendências, desafios e oportunidades que permeiam esse setor em constante evolução.\n",
        "\n",
        "A análise foi pautada em cinco hipóteses fundamentais, cada uma delas oferecendo uma perspectiva única sobre o mercado de trabalho em dados:\n",
        "\n",
        "Hipótese 1: Profissionais mais jovens têm maior probabilidade de estar buscando oportunidades na área de dados, refletindo o dinamismo do mercado.\n",
        "\n",
        "Após uma análise cuidadosa dos dados, confirmamos essa hipótese ao observar uma concentração de profissionais jovens buscando oportunidades na área de dados. Isso sugere a natureza dinâmica desse campo e a busca incessante por talentos jovens.\n",
        "\n",
        "Hipótese 2: A remuneração média na área de dados varia significativamente entre diferentes setores de atuação, indicando disparidades salariais.\n",
        "\n",
        "Ao investigar as médias salariais por setor de atuação, nossas descobertas revelaram que, de fato, existem disparidades salariais consideráveis entre os setores. Alguns setores, como a Indústria e o Governo, tendem a oferecer salários mais altos em comparação com outros, como Educação e Organizações sem Fins Lucrativos.\n",
        "\n",
        "Hipótese 3: Profissionais com mais tempo de experiência tendem a ocupar cargos de nível hierárquico mais elevado, sugerindo um caminho de crescimento profissional.\n",
        "\n",
        "A análise confirmou essa hipótese, mostrando que à medida que os profissionais ganham mais experiência na área de dados, eles têm maior probabilidade de ocupar cargos de nível mais elevado. Isso indica que a experiência é um fator-chave para a progressão na carreira nesse campo.\n",
        "\n",
        "Hipótese 4: Existe uma correlação entre a faixa salarial e o nível de ensino, influenciando a retenção de talentos.\n",
        "\n",
        "Embora explorada essa hipótese, não foi encontrada uma correlação clara entre a faixa salarial e o nível de ensino dos profissionais. Parece que outros fatores desempenham um papel mais significativo na determinação dos salários na área de dados.\n",
        "\n",
        "Hipótese 5: Determinadas linguagens de programação são mais prevalentes em determinados setores de atuação, revelando preferências tecnológicas.\n",
        "\n",
        "Ao analisar as preferências tecnológicas dos profissionais em diferentes setores, foi confirmado que certas linguagens de programação são de fato mais prevalentes em áreas específicas. Isso demonstra a importância das habilidades tecnológicas alinhadas com as necessidades de cada setor.\n",
        "\n",
        "Em resumo, este projeto oferece uma visão holística do mercado de trabalho na área de dados no Brasil, auxiliando profissionais, empresas e formuladores de políticas a tomar decisões estratégicas informadas. Os dados e insights aqui apresentados representam um recurso valioso para navegar em um setor em constante crescimento e evolução.\n",
        "\n",
        "À medida que o mercado continua a se transformar, a análise de dados desempenha um papel essencial na compreensão das complexidades e oportunidades disponíveis. Este projeto, com suas análises rigorosas e conclusões fundamentadas, contribui significativamente para o conhecimento e a capacitação daqueles que desejam prosperar no campo de dados no Brasil."
      ],
      "metadata": {
        "id": "eS3QGMrEdVMm"
      }
    },
    {
      "cell_type": "markdown",
      "source": [
        "### **Fun action**\n",
        "\n",
        "Consegui me identificar dentro da base de dados! 😂"
      ],
      "metadata": {
        "id": "lFROy2vHeq2L"
      }
    },
    {
      "cell_type": "code",
      "source": [
        "linha_destacada = df_final.filter(col(\"Id\") == \"zz0nlhbd8oxyiyxzz0nlh7g4xkiaza5v\")\n",
        "\n",
        "df_final.show()\n",
        "\n",
        "linha_destacada.show(truncate=False, vertical=True)\n",
        "\n"
      ],
      "metadata": {
        "id": "rsKbvVEDfcM3"
      },
      "execution_count": null,
      "outputs": []
    }
  ]
}